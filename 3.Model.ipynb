{
 "cells": [
  {
   "cell_type": "code",
   "execution_count": 45,
   "metadata": {},
   "outputs": [],
   "source": [
    "import pandas as pd\n",
    "import numpy as np\n",
    "import warnings\n",
    "warnings.filterwarnings('ignore')\n",
    "warnings.filterwarnings(\"ignore\", message=\"numpy.ufunc size changed\")\n",
    "import matplotlib.pyplot as plt\n",
    "import scikitplot as skplt\n",
    "import seaborn as sns\n",
    "%matplotlib inline\n",
    "pd.set_option('display.max_columns', None)\n",
    "import re\n",
    "import math\n",
    "\n",
    "from sklearn.model_selection import train_test_split\n",
    "\n",
    "from imblearn.over_sampling import SMOTE\n",
    "from imblearn.over_sampling import ADASYN \n",
    "from imblearn.over_sampling import RandomOverSampler\n",
    "\n",
    "from sklearn.linear_model import LogisticRegression\n",
    "from sklearn.tree import DecisionTreeClassifier\n",
    "from sklearn.neighbors import KNeighborsClassifier\n",
    "from sklearn.ensemble import RandomForestClassifier\n",
    "from sklearn.metrics import confusion_matrix\n",
    "from sklearn.metrics import plot_confusion_matrix\n",
    "\n",
    "from sklearn.metrics import cohen_kappa_score\n",
    "from sklearn.metrics import accuracy_score\n",
    "from sklearn.metrics import roc_auc_score\n",
    "from sklearn.metrics import f1_score"
   ]
  },
  {
   "cell_type": "code",
   "execution_count": 46,
   "metadata": {},
   "outputs": [],
   "source": [
    "def oversampler_choice_train(x):\n",
    "    global X_train, y_train\n",
    "    if x==\"ros\":\n",
    "        ros = RandomOverSampler()\n",
    "        X_train, y_train = ros.fit_sample(X_train, y_train)\n",
    "        print(\"Random Oversampler:\\n\", y_train.value_counts())\n",
    "    elif x==\"smote\":\n",
    "        smote = SMOTE()\n",
    "        X_train, y_train = smote.fit_sample(X_train, y_train)\n",
    "        print(\"SMOTE:\\n\", y_train.value_counts())\n",
    "    elif x == \"ada\":\n",
    "        ada = ADASYN(random_state=42)\n",
    "        X_train, y_train = ada.fit_sample(X_train, y_train)\n",
    "        print(\"ADASYN:\\n\", y_train.value_counts())\n",
    "    else:\n",
    "        print (\"Input should be ros, smote or ada\")"
   ]
  },
  {
   "cell_type": "code",
   "execution_count": 47,
   "metadata": {},
   "outputs": [],
   "source": [
    "#function to run chosen model\n",
    "\n",
    "def model_predictions(x, X_train, X_test, y_train, y_test):\n",
    "    #global X_train, X_test, y_train, y_test, model, predictions\n",
    "    if x == \"logistic\":\n",
    "        model = LogisticRegression(random_state=0, solver='lbfgs', multi_class='multinomial')\n",
    "        model.fit(X_train, y_train)\n",
    "        print(\"Logistic:\")\n",
    "        predictions =  model.predict(X_test)\n",
    "    elif x == \"knn\":\n",
    "        model = KNeighborsClassifier(n_neighbors=5, weights = 'distance')\n",
    "        model.fit(X_train, y_train)\n",
    "        print(\"KNN:\")\n",
    "        predictions = model.predict(X_test)\n",
    "    elif x==\"decision_tree\":\n",
    "        model = DecisionTreeClassifier()\n",
    "        model.fit(X_train, y_train)\n",
    "        print(\"Decision Tree:\")\n",
    "        predictions = model.predict(X_test)\n",
    "    elif x==\"random_forest\":\n",
    "        model = RandomForestClassifier()\n",
    "        model.fit(X_train, y_train)\n",
    "        print (\"Random Forest:\")\n",
    "        predictions = model.predict(X_test)\n",
    "    else:\n",
    "        print (\"Input should be logistic, knn, decision_tree or random_forest\")   \n",
    "    \n",
    "    #calculate scores. Kappa/ROC-AUC/F1 were chosen and should be as high as possible 0-1\n",
    "    print(\"The accuracy of the model on test set is: \", accuracy_score(y_test, predictions)) \n",
    "    print(\"Kappa: \", cohen_kappa_score(y_test, predictions))   \n",
    "    print(\"ROC-AUC score: \", roc_auc_score(y_test, predictions)) \n",
    "    print(\"F1 score: \", f1_score(y_test, predictions))  \n",
    "    #generate confusion matrices with raw and normalised values\n",
    "    print (\"Confusion Matrix - raw:\")\n",
    "    plot_confusion_matrix(model, X_test, y_test, cmap = \"GnBu\")\n",
    "    plt.show() \n",
    "    print (\"Confusion Matrix - normalised row-wise:\")\n",
    "    plot_confusion_matrix(model, X_test, y_test, normalize='true', cmap = \"GnBu\")\n",
    "    plt.show() \n",
    "    return [model, predictions]"
   ]
  },
  {
   "cell_type": "markdown",
   "metadata": {},
   "source": [
    "*Import preprocessed data*"
   ]
  },
  {
   "cell_type": "code",
   "execution_count": 48,
   "metadata": {},
   "outputs": [],
   "source": [
    "data = pd.read_csv('data_preprocessed.csv')"
   ]
  },
  {
   "cell_type": "code",
   "execution_count": 49,
   "metadata": {},
   "outputs": [
    {
     "data": {
      "text/html": [
       "<div>\n",
       "<style scoped>\n",
       "    .dataframe tbody tr th:only-of-type {\n",
       "        vertical-align: middle;\n",
       "    }\n",
       "\n",
       "    .dataframe tbody tr th {\n",
       "        vertical-align: top;\n",
       "    }\n",
       "\n",
       "    .dataframe thead th {\n",
       "        text-align: right;\n",
       "    }\n",
       "</style>\n",
       "<table border=\"1\" class=\"dataframe\">\n",
       "  <thead>\n",
       "    <tr style=\"text-align: right;\">\n",
       "      <th></th>\n",
       "      <th>reward_Cash Back</th>\n",
       "      <th>reward_Points</th>\n",
       "      <th>mailer_type_Postcard</th>\n",
       "      <th>income_level_Low</th>\n",
       "      <th>income_level_Medium</th>\n",
       "      <th>credit_rating_Low</th>\n",
       "      <th>credit_rating_Medium</th>\n",
       "      <th>household_2</th>\n",
       "      <th>household_3</th>\n",
       "      <th>household_4</th>\n",
       "      <th>household_5</th>\n",
       "      <th>household_6</th>\n",
       "      <th>min_sqrt</th>\n",
       "      <th>q3_balance_sqrt</th>\n",
       "      <th>offer_accepted</th>\n",
       "    </tr>\n",
       "  </thead>\n",
       "  <tbody>\n",
       "    <tr>\n",
       "      <th>0</th>\n",
       "      <td>0</td>\n",
       "      <td>0</td>\n",
       "      <td>0</td>\n",
       "      <td>0</td>\n",
       "      <td>0</td>\n",
       "      <td>0</td>\n",
       "      <td>0</td>\n",
       "      <td>0</td>\n",
       "      <td>0</td>\n",
       "      <td>1</td>\n",
       "      <td>0</td>\n",
       "      <td>0</td>\n",
       "      <td>0.666878</td>\n",
       "      <td>0.745167</td>\n",
       "      <td>No</td>\n",
       "    </tr>\n",
       "    <tr>\n",
       "      <th>1</th>\n",
       "      <td>0</td>\n",
       "      <td>0</td>\n",
       "      <td>0</td>\n",
       "      <td>0</td>\n",
       "      <td>1</td>\n",
       "      <td>0</td>\n",
       "      <td>1</td>\n",
       "      <td>0</td>\n",
       "      <td>0</td>\n",
       "      <td>0</td>\n",
       "      <td>1</td>\n",
       "      <td>0</td>\n",
       "      <td>0.577350</td>\n",
       "      <td>0.816497</td>\n",
       "      <td>No</td>\n",
       "    </tr>\n",
       "    <tr>\n",
       "      <th>2</th>\n",
       "      <td>0</td>\n",
       "      <td>0</td>\n",
       "      <td>1</td>\n",
       "      <td>0</td>\n",
       "      <td>0</td>\n",
       "      <td>0</td>\n",
       "      <td>1</td>\n",
       "      <td>1</td>\n",
       "      <td>0</td>\n",
       "      <td>0</td>\n",
       "      <td>0</td>\n",
       "      <td>0</td>\n",
       "      <td>0.707107</td>\n",
       "      <td>0.707107</td>\n",
       "      <td>No</td>\n",
       "    </tr>\n",
       "    <tr>\n",
       "      <th>3</th>\n",
       "      <td>0</td>\n",
       "      <td>0</td>\n",
       "      <td>0</td>\n",
       "      <td>0</td>\n",
       "      <td>1</td>\n",
       "      <td>0</td>\n",
       "      <td>0</td>\n",
       "      <td>0</td>\n",
       "      <td>0</td>\n",
       "      <td>1</td>\n",
       "      <td>0</td>\n",
       "      <td>0</td>\n",
       "      <td>0.521950</td>\n",
       "      <td>0.852976</td>\n",
       "      <td>No</td>\n",
       "    </tr>\n",
       "    <tr>\n",
       "      <th>4</th>\n",
       "      <td>0</td>\n",
       "      <td>0</td>\n",
       "      <td>0</td>\n",
       "      <td>0</td>\n",
       "      <td>1</td>\n",
       "      <td>0</td>\n",
       "      <td>1</td>\n",
       "      <td>0</td>\n",
       "      <td>0</td>\n",
       "      <td>0</td>\n",
       "      <td>0</td>\n",
       "      <td>1</td>\n",
       "      <td>0.520550</td>\n",
       "      <td>0.853831</td>\n",
       "      <td>No</td>\n",
       "    </tr>\n",
       "  </tbody>\n",
       "</table>\n",
       "</div>"
      ],
      "text/plain": [
       "   reward_Cash Back  reward_Points  mailer_type_Postcard  income_level_Low  \\\n",
       "0                 0              0                     0                 0   \n",
       "1                 0              0                     0                 0   \n",
       "2                 0              0                     1                 0   \n",
       "3                 0              0                     0                 0   \n",
       "4                 0              0                     0                 0   \n",
       "\n",
       "   income_level_Medium  credit_rating_Low  credit_rating_Medium  household_2  \\\n",
       "0                    0                  0                     0            0   \n",
       "1                    1                  0                     1            0   \n",
       "2                    0                  0                     1            1   \n",
       "3                    1                  0                     0            0   \n",
       "4                    1                  0                     1            0   \n",
       "\n",
       "   household_3  household_4  household_5  household_6  min_sqrt  \\\n",
       "0            0            1            0            0  0.666878   \n",
       "1            0            0            1            0  0.577350   \n",
       "2            0            0            0            0  0.707107   \n",
       "3            0            1            0            0  0.521950   \n",
       "4            0            0            0            1  0.520550   \n",
       "\n",
       "   q3_balance_sqrt offer_accepted  \n",
       "0         0.745167             No  \n",
       "1         0.816497             No  \n",
       "2         0.707107             No  \n",
       "3         0.852976             No  \n",
       "4         0.853831             No  "
      ]
     },
     "execution_count": 49,
     "metadata": {},
     "output_type": "execute_result"
    }
   ],
   "source": [
    "data.head()"
   ]
  },
  {
   "cell_type": "markdown",
   "metadata": {},
   "source": [
    "*Assign final column as y and remaining columns as X features*\n"
   ]
  },
  {
   "cell_type": "code",
   "execution_count": 50,
   "metadata": {},
   "outputs": [],
   "source": [
    "y = pd.DataFrame(data[data.columns[-1]])\n",
    "X = data.drop([data.columns[-1]],axis=1)"
   ]
  },
  {
   "cell_type": "markdown",
   "metadata": {},
   "source": [
    "*Map y to 1 and 0 for model*"
   ]
  },
  {
   "cell_type": "code",
   "execution_count": 51,
   "metadata": {},
   "outputs": [],
   "source": [
    "mapping = {\n",
    "        'Yes': 1,\n",
    "        'No': 0,\n",
    "    }\n",
    "y = y[data.columns[-1]].replace(mapping)"
   ]
  },
  {
   "cell_type": "code",
   "execution_count": 52,
   "metadata": {},
   "outputs": [
    {
     "data": {
      "text/plain": [
       "0    0\n",
       "1    0\n",
       "2    0\n",
       "3    0\n",
       "4    0\n",
       "Name: offer_accepted, dtype: int64"
      ]
     },
     "execution_count": 52,
     "metadata": {},
     "output_type": "execute_result"
    }
   ],
   "source": [
    "y.head()"
   ]
  },
  {
   "cell_type": "code",
   "execution_count": 53,
   "metadata": {},
   "outputs": [
    {
     "data": {
      "text/html": [
       "<div>\n",
       "<style scoped>\n",
       "    .dataframe tbody tr th:only-of-type {\n",
       "        vertical-align: middle;\n",
       "    }\n",
       "\n",
       "    .dataframe tbody tr th {\n",
       "        vertical-align: top;\n",
       "    }\n",
       "\n",
       "    .dataframe thead th {\n",
       "        text-align: right;\n",
       "    }\n",
       "</style>\n",
       "<table border=\"1\" class=\"dataframe\">\n",
       "  <thead>\n",
       "    <tr style=\"text-align: right;\">\n",
       "      <th></th>\n",
       "      <th>reward_Cash Back</th>\n",
       "      <th>reward_Points</th>\n",
       "      <th>mailer_type_Postcard</th>\n",
       "      <th>income_level_Low</th>\n",
       "      <th>income_level_Medium</th>\n",
       "      <th>credit_rating_Low</th>\n",
       "      <th>credit_rating_Medium</th>\n",
       "      <th>household_2</th>\n",
       "      <th>household_3</th>\n",
       "      <th>household_4</th>\n",
       "      <th>household_5</th>\n",
       "      <th>household_6</th>\n",
       "      <th>min_sqrt</th>\n",
       "      <th>q3_balance_sqrt</th>\n",
       "    </tr>\n",
       "  </thead>\n",
       "  <tbody>\n",
       "    <tr>\n",
       "      <th>0</th>\n",
       "      <td>0</td>\n",
       "      <td>0</td>\n",
       "      <td>0</td>\n",
       "      <td>0</td>\n",
       "      <td>0</td>\n",
       "      <td>0</td>\n",
       "      <td>0</td>\n",
       "      <td>0</td>\n",
       "      <td>0</td>\n",
       "      <td>1</td>\n",
       "      <td>0</td>\n",
       "      <td>0</td>\n",
       "      <td>0.666878</td>\n",
       "      <td>0.745167</td>\n",
       "    </tr>\n",
       "    <tr>\n",
       "      <th>1</th>\n",
       "      <td>0</td>\n",
       "      <td>0</td>\n",
       "      <td>0</td>\n",
       "      <td>0</td>\n",
       "      <td>1</td>\n",
       "      <td>0</td>\n",
       "      <td>1</td>\n",
       "      <td>0</td>\n",
       "      <td>0</td>\n",
       "      <td>0</td>\n",
       "      <td>1</td>\n",
       "      <td>0</td>\n",
       "      <td>0.577350</td>\n",
       "      <td>0.816497</td>\n",
       "    </tr>\n",
       "    <tr>\n",
       "      <th>2</th>\n",
       "      <td>0</td>\n",
       "      <td>0</td>\n",
       "      <td>1</td>\n",
       "      <td>0</td>\n",
       "      <td>0</td>\n",
       "      <td>0</td>\n",
       "      <td>1</td>\n",
       "      <td>1</td>\n",
       "      <td>0</td>\n",
       "      <td>0</td>\n",
       "      <td>0</td>\n",
       "      <td>0</td>\n",
       "      <td>0.707107</td>\n",
       "      <td>0.707107</td>\n",
       "    </tr>\n",
       "    <tr>\n",
       "      <th>3</th>\n",
       "      <td>0</td>\n",
       "      <td>0</td>\n",
       "      <td>0</td>\n",
       "      <td>0</td>\n",
       "      <td>1</td>\n",
       "      <td>0</td>\n",
       "      <td>0</td>\n",
       "      <td>0</td>\n",
       "      <td>0</td>\n",
       "      <td>1</td>\n",
       "      <td>0</td>\n",
       "      <td>0</td>\n",
       "      <td>0.521950</td>\n",
       "      <td>0.852976</td>\n",
       "    </tr>\n",
       "    <tr>\n",
       "      <th>4</th>\n",
       "      <td>0</td>\n",
       "      <td>0</td>\n",
       "      <td>0</td>\n",
       "      <td>0</td>\n",
       "      <td>1</td>\n",
       "      <td>0</td>\n",
       "      <td>1</td>\n",
       "      <td>0</td>\n",
       "      <td>0</td>\n",
       "      <td>0</td>\n",
       "      <td>0</td>\n",
       "      <td>1</td>\n",
       "      <td>0.520550</td>\n",
       "      <td>0.853831</td>\n",
       "    </tr>\n",
       "  </tbody>\n",
       "</table>\n",
       "</div>"
      ],
      "text/plain": [
       "   reward_Cash Back  reward_Points  mailer_type_Postcard  income_level_Low  \\\n",
       "0                 0              0                     0                 0   \n",
       "1                 0              0                     0                 0   \n",
       "2                 0              0                     1                 0   \n",
       "3                 0              0                     0                 0   \n",
       "4                 0              0                     0                 0   \n",
       "\n",
       "   income_level_Medium  credit_rating_Low  credit_rating_Medium  household_2  \\\n",
       "0                    0                  0                     0            0   \n",
       "1                    1                  0                     1            0   \n",
       "2                    0                  0                     1            1   \n",
       "3                    1                  0                     0            0   \n",
       "4                    1                  0                     1            0   \n",
       "\n",
       "   household_3  household_4  household_5  household_6  min_sqrt  \\\n",
       "0            0            1            0            0  0.666878   \n",
       "1            0            0            1            0  0.577350   \n",
       "2            0            0            0            0  0.707107   \n",
       "3            0            1            0            0  0.521950   \n",
       "4            0            0            0            1  0.520550   \n",
       "\n",
       "   q3_balance_sqrt  \n",
       "0         0.745167  \n",
       "1         0.816497  \n",
       "2         0.707107  \n",
       "3         0.852976  \n",
       "4         0.853831  "
      ]
     },
     "execution_count": 53,
     "metadata": {},
     "output_type": "execute_result"
    }
   ],
   "source": [
    "X.head()"
   ]
  },
  {
   "cell_type": "markdown",
   "metadata": {},
   "source": [
    "*Split into train/test data*"
   ]
  },
  {
   "cell_type": "code",
   "execution_count": 54,
   "metadata": {},
   "outputs": [],
   "source": [
    "X_train, X_test, y_train, y_test = train_test_split(X, y, test_size=0.3, random_state=100)"
   ]
  },
  {
   "cell_type": "code",
   "execution_count": 55,
   "metadata": {},
   "outputs": [
    {
     "name": "stdout",
     "output_type": "stream",
     "text": [
      "y_test:\n",
      " 0    4939\n",
      "1     297\n",
      "Name: offer_accepted, dtype: int64\n",
      "y_train:\n",
      " 0    11515\n",
      "1      701\n",
      "Name: offer_accepted, dtype: int64\n"
     ]
    }
   ],
   "source": [
    "print(\"y_test:\\n\",y_test.value_counts())\n",
    "print(\"y_train:\\n\", y_train.value_counts())"
   ]
  },
  {
   "cell_type": "markdown",
   "metadata": {},
   "source": [
    "*Choose which oversampler to use to help deal with the imbalance. Undersamplers were ruled out due to the small dataset*"
   ]
  },
  {
   "cell_type": "code",
   "execution_count": 56,
   "metadata": {},
   "outputs": [
    {
     "name": "stdout",
     "output_type": "stream",
     "text": [
      "SMOTE:\n",
      " 1    11515\n",
      "0    11515\n",
      "Name: offer_accepted, dtype: int64\n"
     ]
    }
   ],
   "source": [
    "#choose smote, ada (ADASYN) or ros (Random Oversampler)\n",
    "oversampler_choice_train(\"smote\")"
   ]
  },
  {
   "cell_type": "markdown",
   "metadata": {},
   "source": [
    "*Choose which model to run and generate confusion matrices and scores*"
   ]
  },
  {
   "cell_type": "code",
   "execution_count": 81,
   "metadata": {},
   "outputs": [
    {
     "name": "stdout",
     "output_type": "stream",
     "text": [
      "Logistic:\n",
      "The accuracy of the model on test set is:  0.6885026737967914\n",
      "Kappa:  0.12102150245457677\n",
      "ROC-AUC score:  0.7003929420410488\n",
      "F1 score:  0.20632603406326033\n",
      "Confusion Matrix - raw:\n"
     ]
    },
    {
     "data": {
      "image/png": "[encoded data removed]",
      "text/plain": [
       "<Figure size 576x396 with 2 Axes>"
      ]
     },
     "metadata": {},
     "output_type": "display_data"
    },
    {
     "name": "stdout",
     "output_type": "stream",
     "text": [
      "Confusion Matrix - normalised row-wise:\n"
     ]
    },
    {
     "data": {
      "image/png": "[encoded data removed]",
      "text/plain": [
       "<Figure size 576x396 with 2 Axes>"
      ]
     },
     "metadata": {},
     "output_type": "display_data"
    }
   ],
   "source": [
    "#Logistic Regression: \"logistic\", K Nearest Neighbours: \"knn\", Decision Tree: \"decision_tree\", Random Forest: \"random_forest\"\n",
    "model_run = model_predictions(\"logistic\", X_train, X_test, y_train, y_test)"
   ]
  },
  {
   "cell_type": "markdown",
   "metadata": {},
   "source": [
    "*ROC Curve*"
   ]
  },
  {
   "cell_type": "code",
   "execution_count": 79,
   "metadata": {},
   "outputs": [
    {
     "data": {
      "text/plain": [
       "<function matplotlib.pyplot.show(close=None, block=None)>"
      ]
     },
     "execution_count": 79,
     "metadata": {},
     "output_type": "execute_result"
    },
    {
     "data": {
      "image/png": "[encoded data removed]",
      "text/plain": [
       "<Figure size 576x396 with 1 Axes>"
      ]
     },
     "metadata": {},
     "output_type": "display_data"
    }
   ],
   "source": [
    "model = model_run[0]\n",
    "y_true = y_test\n",
    "y_probas = model.predict_proba(X_test)\n",
    "skplt.metrics.plot_roc_curve(y_true,y_probas)\n",
    "plt.show"
   ]
  },
  {
   "cell_type": "markdown",
   "metadata": {},
   "source": [
    "*Logistic Regression Precision-Recall Curve and F1 score*"
   ]
  },
  {
   "cell_type": "code",
   "execution_count": 80,
   "metadata": {},
   "outputs": [
    {
     "name": "stdout",
     "output_type": "stream",
     "text": [
      "Logistic: f1=0.206 auc=0.158\n"
     ]
    },
    {
     "data": {
      "image/png": "[encoded data removed]",
      "text/plain": [
       "<Figure size 576x396 with 1 Axes>"
      ]
     },
     "metadata": {},
     "output_type": "display_data"
    }
   ],
   "source": [
    "from sklearn.datasets import make_classification\n",
    "from sklearn.linear_model import LogisticRegression\n",
    "from sklearn.model_selection import train_test_split\n",
    "from sklearn.metrics import precision_recall_curve\n",
    "from sklearn.metrics import f1_score\n",
    "from sklearn.metrics import auc\n",
    "from matplotlib import pyplot\n",
    "# fit a model\n",
    "model = LogisticRegression(random_state=0, solver='lbfgs', multi_class='auto')\n",
    "model.fit(X_train, y_train)\n",
    "# predict probabilities\n",
    "lr_probs = model.predict_proba(X_test)\n",
    "# keep probabilities for the positive outcome only\n",
    "lr_probs = lr_probs[:, 1]\n",
    "# predict class values\n",
    "yhat = model.predict(X_test)\n",
    "lr_precision, lr_recall, _ = precision_recall_curve(y_test, lr_probs)\n",
    "lr_f1, lr_auc = f1_score(y_test, yhat), auc(lr_recall, lr_precision)\n",
    "# summarize scores\n",
    "print('Logistic: f1=%.3f auc=%.3f' % (lr_f1, lr_auc))\n",
    "# plot the precision-recall curves\n",
    "no_skill = len(y_test[y_test==1]) / len(y_test)\n",
    "pyplot.plot([0, 1], [no_skill, no_skill], linestyle='--', label='No Skill')\n",
    "pyplot.plot(lr_recall, lr_precision, marker='.', label='Logistic')\n",
    "# axis labels\n",
    "pyplot.xlabel('Recall')\n",
    "pyplot.ylabel('Precision')\n",
    "# show the legend\n",
    "pyplot.legend()\n",
    "# show the plot\n",
    "pyplot.show()"
   ]
  },
  {
   "cell_type": "markdown",
   "metadata": {},
   "source": [
    "Feature Importance in Logistic Regression\n",
    "\n",
    "The positive scores indicate a feature that predicts \"Yes\" and the negative scores indicate a feature that predicts \"No\""
   ]
  },
  {
   "cell_type": "code",
   "execution_count": 61,
   "metadata": {},
   "outputs": [
    {
     "name": "stdout",
     "output_type": "stream",
     "text": [
      "Feature: 0, Score: -0.85518\n",
      "Feature: 1, Score: -0.28468\n",
      "Feature: 2, Score: 0.92973\n",
      "Feature: 3, Score: 0.99024\n",
      "Feature: 4, Score: 0.40901\n",
      "Feature: 5, Score: 1.80814\n",
      "Feature: 6, Score: 0.85964\n",
      "Feature: 7, Score: -0.45185\n",
      "Feature: 8, Score: -0.27987\n",
      "Feature: 9, Score: -0.39349\n",
      "Feature: 10, Score: -0.50499\n",
      "Feature: 11, Score: -0.45855\n",
      "Feature: 12, Score: -0.43506\n",
      "Feature: 13, Score: -0.20175\n"
     ]
    },
    {
     "data": {
      "text/plain": [
       "<BarContainer object of 14 artists>"
      ]
     },
     "execution_count": 61,
     "metadata": {},
     "output_type": "execute_result"
    },
    {
     "data": {
      "image/png": "[encoded data removed]",
      "text/plain": [
       "<Figure size 432x288 with 1 Axes>"
      ]
     },
     "metadata": {
      "needs_background": "light"
     },
     "output_type": "display_data"
    }
   ],
   "source": [
    "# logistic regression for feature importance\n",
    "from sklearn.datasets import make_classification\n",
    "from sklearn.linear_model import LogisticRegression\n",
    "from matplotlib import pyplot\n",
    "# define the model\n",
    "model = LogisticRegression()\n",
    "# fit the model\n",
    "model.fit(X, y)\n",
    "# get importance\n",
    "importance = model.coef_[0]\n",
    "# summarize feature importance\n",
    "for i,v in enumerate(importance):\n",
    "\tprint('Feature: %0d, Score: %.5f' % (i,v))\n",
    "# plot feature importance\n",
    "pyplot.bar([x for x in range(len(importance))], importance)\n",
    "\n",
    "#columns are as follows:\n",
    "# 0 'reward_Cash Back', \n",
    "# 1 'reward_Points', \n",
    "# 2 'mailer_type_Postcard',\n",
    "# 3'income_level_Low', \n",
    "# 4 'income_level_Medium',\n",
    "# 5 'credit_rating_Low',\n",
    "# 6 'credit_rating_Medium', \n",
    "# 7 'household_2', \n",
    "# 8 'household_3', \n",
    "# 9 'household_4',\n",
    "# 10 'household_5', \n",
    "# 11 'household_6',\n",
    "# 12 'min_sqrt', \n",
    "# 13 'q3_balance_sqrt',"
   ]
  },
  {
   "cell_type": "markdown",
   "metadata": {},
   "source": [
    "*Random forest for feature importance on a classification problem*\n"
   ]
  },
  {
   "cell_type": "code",
   "execution_count": 60,
   "metadata": {},
   "outputs": [
    {
     "data": {
      "text/plain": [
       "([0, 1, 2, 3, 4, 5, 6, 7, 8, 9, 10, 11, 12, 13],\n",
       " [Text(0, 0, ''),\n",
       "  Text(0, 0, ''),\n",
       "  Text(0, 0, ''),\n",
       "  Text(0, 0, ''),\n",
       "  Text(0, 0, ''),\n",
       "  Text(0, 0, ''),\n",
       "  Text(0, 0, ''),\n",
       "  Text(0, 0, ''),\n",
       "  Text(0, 0, ''),\n",
       "  Text(0, 0, ''),\n",
       "  Text(0, 0, ''),\n",
       "  Text(0, 0, ''),\n",
       "  Text(0, 0, ''),\n",
       "  Text(0, 0, '')])"
      ]
     },
     "execution_count": 60,
     "metadata": {},
     "output_type": "execute_result"
    },
    {
     "data": {
      "image/png": "[encoded data removed]",
      "text/plain": [
       "<Figure size 432x288 with 1 Axes>"
      ]
     },
     "metadata": {
      "needs_background": "light"
     },
     "output_type": "display_data"
    }
   ],
   "source": [
    "from sklearn.datasets import make_classification\n",
    "from matplotlib import pyplot\n",
    "\n",
    "model = RandomForestClassifier()\n",
    "# fit the model\n",
    "model.fit(X_train, y_train)\n",
    "# get importance\n",
    "importance = model.feature_importances_\n",
    "# summarize feature importance\n",
    "\n",
    "   \n",
    "# plot feature importance\n",
    "pyplot.bar([x for x in X_train], importance)\n",
    "plt.xticks(rotation='vertical')"
   ]
  }
 ],
 "metadata": {
  "kernelspec": {
   "display_name": "Python 3",
   "language": "python",
   "name": "python3"
  },
  "language_info": {
   "codemirror_mode": {
    "name": "ipython",
    "version": 3
   },
   "file_extension": ".py",
   "mimetype": "text/x-python",
   "name": "python",
   "nbconvert_exporter": "python",
   "pygments_lexer": "ipython3",
   "version": "3.8.5"
  }
 },
 "nbformat": 4,
 "nbformat_minor": 4
}
